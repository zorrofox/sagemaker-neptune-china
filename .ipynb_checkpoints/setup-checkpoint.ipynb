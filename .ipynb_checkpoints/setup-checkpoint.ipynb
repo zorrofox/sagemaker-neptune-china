{
 "cells": [
  {
   "cell_type": "markdown",
   "metadata": {},
   "source": [
    "# Install all python packages"
   ]
  },
  {
   "cell_type": "markdown",
   "metadata": {},
   "source": [
    "We will use this NoteBook to setup our Neptune connections which has been setup in China region. And We need downgrade tornado version to 4.5.1 to work arround some python package confict."
   ]
  },
  {
   "cell_type": "code",
   "execution_count": null,
   "metadata": {},
   "outputs": [],
   "source": [
    "import sys\n",
    "\n",
    "!{sys.executable} -m pip config set global.index-url https://opentuna.cn/pypi/web/simple\n",
    "!{sys.executable} -m pip install gremlinpython ipython-gremlin msgpack ipython_unittest jupyter_dojo sparqlwrapper ipython-sparql ipywidgets\n",
    "!{sys.executable} -m pip install -U tornado==4.5.1"
   ]
  },
  {
   "cell_type": "markdown",
   "metadata": {},
   "source": [
    "# Install the Neptune python utils package"
   ]
  },
  {
   "cell_type": "code",
   "execution_count": null,
   "metadata": {},
   "outputs": [],
   "source": [
    "!aws s3 cp s3://aws-neptune-samples-cn-northwest-1/neptune-sagemaker/bin/neptune-python-utils/neptune_python_utils.zip ./\n",
    "!unzip -n neptune_python_utils.zip -d /home/ec2-user/anaconda3/envs/python3/lib/python3.6/site-packages/"
   ]
  },
  {
   "cell_type": "markdown",
   "metadata": {},
   "source": [
    "# [Option] Setup Neptune load S3 IAM Role"
   ]
  },
  {
   "cell_type": "markdown",
   "metadata": {},
   "source": [
    "If you have not setup the Neptune S3 load IAM role, you can run bellow cells."
   ]
  },
  {
   "cell_type": "code",
   "execution_count": null,
   "metadata": {},
   "outputs": [],
   "source": [
    "%%writefile policy.json\n",
    "{\n",
    "  \"Version\": \"2012-10-17\",\n",
    "  \"Statement\": [\n",
    "    {\n",
    "      \"Sid\": \"\",\n",
    "      \"Effect\": \"Allow\",\n",
    "      \"Principal\": {\n",
    "        \"Service\": \"rds.amazonaws.com\"\n",
    "      },\n",
    "      \"Action\": \"sts:AssumeRole\"\n",
    "    }\n",
    "  ]\n",
    "}"
   ]
  },
  {
   "cell_type": "code",
   "execution_count": null,
   "metadata": {},
   "outputs": [],
   "source": [
    "!aws iam create-role --role-name NeptuneLoadFromS3 --assume-role-policy-document file://policy.json\n",
    "!aws iam attach-role-policy --role-name NeptuneLoadFromS3 --policy-arn arn:aws-cn:iam::aws:policy/AmazonS3ReadOnlyAccess"
   ]
  },
  {
   "cell_type": "markdown",
   "metadata": {},
   "source": [
    "# Setup OS environment for the Neptune connections"
   ]
  },
  {
   "cell_type": "markdown",
   "metadata": {},
   "source": [
    "Please modify all ENV variables to your own values!"
   ]
  },
  {
   "cell_type": "code",
   "execution_count": null,
   "metadata": {},
   "outputs": [],
   "source": [
    "!echo 'export NEPTUNE_CLUSTER_ENDPOINT=neptunedb-cluster.cluster-cla1zrd6hpmp.neptune.cn-northwest-1.amazonaws.com.cn' >> /home/ec2-user/.bashrc\n",
    "!echo 'export NEPTUNE_READER_ENDPOINT=neptunedb-cluster.cluster-ro-cla1zrd6hpmp.neptune.cn-northwest-1.amazonaws.com.cn' >> /home/ec2-user/.bashrc\n",
    "!echo 'export NEPTUNE_CLUSTER_PORT=8182' >> /home/ec2-user/.bashrc\n",
    "!echo 'export NEPTUNE_LOAD_FROM_S3_ROLE_ARN=arn:aws-cn:iam::041549501818:role/NeptuneLoadFromS3' >> /home/ec2-user/.bashrc\n",
    "!echo 'export AWS_REGION=cn-northwest-1' >> /home/ec2-user/.bashrc"
   ]
  }
 ],
 "metadata": {
  "kernelspec": {
   "display_name": "conda_python3",
   "language": "python",
   "name": "conda_python3"
  },
  "language_info": {
   "codemirror_mode": {
    "name": "ipython",
    "version": 3
   },
   "file_extension": ".py",
   "mimetype": "text/x-python",
   "name": "python",
   "nbconvert_exporter": "python",
   "pygments_lexer": "ipython3",
   "version": "3.6.10"
  }
 },
 "nbformat": 4,
 "nbformat_minor": 4
}
