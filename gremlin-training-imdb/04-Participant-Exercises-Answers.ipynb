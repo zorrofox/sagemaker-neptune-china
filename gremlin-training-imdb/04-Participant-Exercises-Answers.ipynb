{
 "cells": [
  {
   "cell_type": "markdown",
   "metadata": {},
   "source": [
    "# Participant exercises\n",
    "In this section, you will write the Gremlin queries yourself, with gradually increasing difficulty level."
   ]
  },
  {
   "cell_type": "markdown",
   "metadata": {},
   "source": [
    "## Setup\n",
    "\n",
    "Before you start, ensure you have run notebook _01-Setup_ to create the dataset with which we'll be working."
   ]
  },
  {
   "cell_type": "code",
   "execution_count": null,
   "metadata": {},
   "outputs": [],
   "source": [
    "%load_ext ipython_unittest\n",
    "%run '../util/neptune.py'"
   ]
  },
  {
   "cell_type": "code",
   "execution_count": null,
   "metadata": {},
   "outputs": [],
   "source": [
    "g = neptune.graphTraversal()"
   ]
  },
  {
   "cell_type": "markdown",
   "metadata": {},
   "source": [
    "## Graph Model\n",
    "\n",
    "Here's the application graph data model:\n",
    "\n",
    "<img src=\"https://s3.amazonaws.com/aws-neptune-customer-samples/neptune-sagemaker/images/imdb-data-model.jpg\"/>\n"
   ]
  },
  {
   "cell_type": "markdown",
   "metadata": {},
   "source": [
    "## Gremlin-Python\n",
    "\n",
    "Throughout these exercises you'll be using [Gremlin-Python](http://tinkerpop.apache.org/docs/current/reference/#gremlin-python), which requires a few modifications to Gremlin:\n",
    "\n",
    " - In Python, `as`, `in`, `and`, `or`, `is`, `not`, `from`, and `global` are reserved words. In Gremlin-Python, simply add a `_` postfix to these words. For example, the `as()` Gremlin step is written `as_()`."
   ]
  },
  {
   "cell_type": "markdown",
   "metadata": {},
   "source": [
    "### 04.01: Simple look-up by property\n",
    "\n",
    "Display all the properties (using _valueMap()_) of artist with name Anne Hathaway.\n",
    "\n"
   ]
  },
  {
   "cell_type": "code",
   "execution_count": null,
   "metadata": {},
   "outputs": [],
   "source": [
    "%%unittest\n",
    "\n",
    "results_04_01 = (g.\n",
    "    #begin\n",
    "    V().has('Artist', 'name', 'Anne Hathaway').valueMap().\n",
    "    #end\n",
    "    next())\n",
    "\n",
    "print(results_04_01)\n",
    "\n",
    "assert results_04_01 == {'birthyear': [1982], 'name': ['Anne Hathaway']}"
   ]
  },
  {
   "cell_type": "markdown",
   "metadata": {},
   "source": [
    "### 04.02: Single hop traversal\n",
    "\n",
    "Find out all the movies which Anne Hathaway acted in. (Order the movies by id before limiting to 10.)\n",
    "\n"
   ]
  },
  {
   "cell_type": "code",
   "execution_count": null,
   "metadata": {},
   "outputs": [],
   "source": [
    "%%unittest\n",
    "\n",
    "results_04_02 = (g.\n",
    "    #begin\n",
    "    V().has('Artist', 'name', 'Anne Hathaway').in_('actress').order().by(id).limit(10).values('title').\n",
    "    #end\n",
    "    toList())\n",
    "\n",
    "print(results_04_02)\n",
    "\n",
    "assert results_04_02 == ['The Princess Diaries', \n",
    "                         'The Other Side of Heaven', \n",
    "                         'Havoc', \n",
    "                         'Ella Enchanted', \n",
    "                         'The Princess Diaries 2: Royal Engagement', \n",
    "                         'Becoming Jane', \n",
    "                         'Get Smart', \n",
    "                         'Hoodwinked!', \n",
    "                         'Passengers', \n",
    "                         'The Devil Wears Prada']"
   ]
  },
  {
   "cell_type": "markdown",
   "metadata": {},
   "source": [
    "### 04.03: Two hop traversal\n",
    "\n",
    "Find 5 unique actors which were paired with Anne Hathaway. (Use _dedup()_ to deduplicate the actors, and then order by id before limiting to 5.)\n"
   ]
  },
  {
   "cell_type": "code",
   "execution_count": null,
   "metadata": {},
   "outputs": [],
   "source": [
    "%%unittest\n",
    "\n",
    "results_04_03 = (g.\n",
    "    #begin\n",
    "    V().has('Artist', 'name', 'Anne Hathaway').\n",
    "                 in_('actress').\n",
    "                 out('actor').\n",
    "                 dedup().order().by(id).limit(5).\n",
    "                 values('name').\n",
    "    #end\n",
    "    toList())\n",
    "\n",
    "print(results_04_03)\n",
    "\n",
    "assert results_04_03 == ['Russell Crowe', \n",
    "                         'Robert De Niro', \n",
    "                         'Johnny Depp', \n",
    "                         'Cary Elwes', \n",
    "                         'Matthew McConaughey']"
   ]
  },
  {
   "cell_type": "markdown",
   "metadata": {},
   "source": [
    "### 04.04: Using traversal filters\n",
    "\n",
    "Find the Person who lives in Cleveland and follows Anne Hathaway. (See [example 3 of the _where()_ step](http://tinkerpop.apache.org/docs/current/reference/#where-step) for how to use a traversal while filtering.)\n"
   ]
  },
  {
   "cell_type": "code",
   "execution_count": null,
   "metadata": {},
   "outputs": [],
   "source": [
    "%%unittest\n",
    "\n",
    "results_04_04 = (g.\n",
    "    #begin\n",
    "    V().has('Artist', 'name', 'Anne Hathaway').\n",
    "                 in_('follows').\n",
    "                 where(out('isLocatedIn').values('name').is_(eq('Cleveland'))).\n",
    "                 values('firstName', 'lastName').fold().\n",
    "    #end\n",
    "    next())\n",
    "\n",
    "\n",
    "print(results_04_04)\n",
    "\n",
    "assert results_04_04 == ['Paul', 'Wilson']"
   ]
  },
  {
   "cell_type": "markdown",
   "metadata": {},
   "source": [
    "### 04.05: Using filter on edges & range queries\n",
    "\n",
    "List persons who have given The Princess Diaries rating of less than 5. (Use _inE()_ or _outE()_ to position the traverser on an edge. Use _project()_ to construct your results.)\n"
   ]
  },
  {
   "cell_type": "code",
   "execution_count": null,
   "metadata": {},
   "outputs": [],
   "source": [
    "%%unittest\n",
    "\n",
    "results_04_05 = (g.\n",
    "    #begin\n",
    "    V().has('Movie', 'title', 'The Princess Diaries').\n",
    "                 inE('rated').has('rating', lt(5)).\n",
    "                 otherV().\n",
    "                 project('firstName', 'lastName').\n",
    "                 by('firstName').\n",
    "                 by('lastName').\n",
    "    #end\n",
    "    toList())\n",
    "\n",
    "print(results_04_05)\n",
    "\n",
    "assert results_04_05 == [{'firstName': 'Jacques', 'lastName': 'Ferrer'}, \n",
    "                              {'firstName': 'Choling', 'lastName': 'Yang'}]"
   ]
  }
 ],
 "metadata": {
  "kernelspec": {
   "display_name": "conda_python3",
   "language": "python",
   "name": "conda_python3"
  },
  "language_info": {
   "codemirror_mode": {
    "name": "ipython",
    "version": 3
   },
   "file_extension": ".py",
   "mimetype": "text/x-python",
   "name": "python",
   "nbconvert_exporter": "python",
   "pygments_lexer": "ipython3",
   "version": "3.6.10"
  }
 },
 "nbformat": 4,
 "nbformat_minor": 4
}
