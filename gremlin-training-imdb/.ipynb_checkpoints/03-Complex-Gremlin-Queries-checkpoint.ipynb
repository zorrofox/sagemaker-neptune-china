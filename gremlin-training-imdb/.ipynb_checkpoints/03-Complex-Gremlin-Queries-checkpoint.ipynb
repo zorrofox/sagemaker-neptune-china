{
 "cells": [
  {
   "cell_type": "markdown",
   "metadata": {},
   "source": [
    "# Complex Gremlin Queries\n",
    "In this section, we show you some more advanced Gremlin queries."
   ]
  },
  {
   "cell_type": "markdown",
   "metadata": {},
   "source": [
    "## Setup\n",
    "\n",
    "Before you start, ensure you have run notebook _01-Setup_ to create the dataset with which we'll be working."
   ]
  },
  {
   "cell_type": "code",
   "execution_count": null,
   "metadata": {},
   "outputs": [],
   "source": [
    "%load_ext ipython_unittest\n",
    "%run '../util/neptune.py'"
   ]
  },
  {
   "cell_type": "code",
   "execution_count": null,
   "metadata": {},
   "outputs": [],
   "source": [
    "g = neptune.graphTraversal()"
   ]
  },
  {
   "cell_type": "markdown",
   "metadata": {},
   "source": [
    "## Graph Model\n",
    "\n",
    "Here's the application graph data model:\n",
    "\n",
    "<img src=\"https://s3.amazonaws.com/aws-neptune-customer-samples/neptune-sagemaker/images/imdb-data-model.jpg\"/>\n"
   ]
  },
  {
   "cell_type": "markdown",
   "metadata": {},
   "source": [
    "## Gremlin-Python\n",
    "\n",
    "Throughout these exercises you'll be using [Gremlin-Python](http://tinkerpop.apache.org/docs/current/reference/#gremlin-python), which requires a few modifications to Gremlin:\n",
    "\n",
    " - In Python, `as`, `in`, `and`, `or`, `is`, `not`, `from`, and `global` are reserved words. In Gremlin-Python, simply add a `_` postfix to these words. For example, the `as()` Gremlin step is written `as_()`."
   ]
  },
  {
   "cell_type": "markdown",
   "metadata": {},
   "source": [
    "### 03.01: Recommendation query\n",
    "\n",
    "Start with a person with ID 'person378' and suggest 10 movie recommendations.\n",
    "The movies should be highly rated and belong to the favourite genre of this person.\n",
    "\n",
    "Consult the following documentation:\n",
    " - [`groupCount()`](http://tinkerpop.apache.org/docs/current/reference/#groupcount-step)\n",
    " - [`order().by()`](http://tinkerpop.apache.org/docs/3.3.2/reference/#order-step)\n"
   ]
  },
  {
   "cell_type": "code",
   "execution_count": null,
   "metadata": {},
   "outputs": [],
   "source": [
    "%%time\n",
    "results_03_01 = (g.\n",
    "    #begin\n",
    "    V('person378').out('rated').aggregate('watched').\n",
    "    out('genre').groupCount().order(local).by(values, decr).unfold().limit(1).\n",
    "    select(keys).in_('genre').has('rating', gt(8.0)).has('numvotes',gt(50000)).\n",
    "    where(without('watched')).order().by('rating', decr).\n",
    "    limit(10).values('title').\n",
    "    #end\n",
    "    toList())\n",
    "\n",
    "for result in results_03_01:\n",
    "    print(result);\n",
    "\n"
   ]
  },
  {
   "cell_type": "markdown",
   "metadata": {},
   "source": [
    "### 03.02: Bacon number\n",
    "Find out how is Jack Nicholson related to Kevin Bacon\n",
    "\n",
    "This query introduces you to repeat().until() step. This is a useful constuct to \n",
    "write multiple-hop queries with some terminating condition. \n",
    "\n",
    "Consult the following documentation:\n",
    " - [`repeat().until()`](http://tinkerpop.apache.org/docs/3.3.2/reference/#repeat-step)\n",
    " - [`path()`](http://tinkerpop.apache.org/docs/3.3.2/reference/#path-step)\n",
    " - [`Additional reference`](http://kelvinlawrence.net/book/Gremlin-Graph-Guide.html#sp)\n"
   ]
  },
  {
   "cell_type": "code",
   "execution_count": null,
   "metadata": {},
   "outputs": [],
   "source": [
    "%%time\n",
    "results_03_02 = (g.\n",
    "    #begin\n",
    "    V().has('name','Jack Nicholson').\n",
    "    repeat(__.in_('actor').out('actor').simplePath()).until(has('name','Kevin Bacon')).\n",
    "    path().by('name').by('title').limit(10).\n",
    "    #end\n",
    "    toList())\n",
    "\n",
    "for result in results_03_02:\n",
    "    print(result);\n",
    "\n"
   ]
  },
  {
   "cell_type": "markdown",
   "metadata": {},
   "source": [
    "### 03.03: Running average\n",
    "\n",
    "What is the average rating of movies directed by Steven Spielberg?\n",
    "\n",
    "Consult the following documentation:\n",
    " - [`mean()`](http://tinkerpop.apache.org/docs/3.3.2/reference/#mean-step)\n"
   ]
  },
  {
   "cell_type": "code",
   "execution_count": null,
   "metadata": {},
   "outputs": [],
   "source": [
    "%%time\n",
    "results_03_03 = (g.\n",
    "    #begin\n",
    "    V().hasLabel('Artist').has('name', 'Steven Spielberg').\n",
    "    in_('director').values('rating').mean().\n",
    "    #end\n",
    "    toList())\n",
    "\n",
    "for result in results_03_03:\n",
    "    print(result);\n",
    "\n"
   ]
  },
  {
   "cell_type": "markdown",
   "metadata": {},
   "source": [
    "### 03.04\n",
    "\n",
    "Which is the most popular genre of movies that were directed by Martin Scorsese and Leonardo DiCaprio acted in them.\n"
   ]
  },
  {
   "cell_type": "code",
   "execution_count": null,
   "metadata": {},
   "outputs": [],
   "source": [
    "%%time\n",
    "results_03_04 = (g.\n",
    "    #begin\n",
    "    V().hasLabel('Artist').has('name', 'Leonardo DiCaprio').as_('actor').\n",
    "    in_('actor').as_('movies').out('director').has('name', 'Martin Scorsese').\n",
    "    select('movies').out('genre').groupCount().order(local).by(values, decr).\n",
    "    #end\n",
    "    toList())\n",
    "\n",
    "for result in results_03_04:\n",
    "    print(result);\n",
    "\n"
   ]
  },
  {
   "cell_type": "markdown",
   "metadata": {},
   "source": [
    "### 03.05\n",
    "\n",
    "List the top 10 movies which have received highest number of ratings by the people.\n",
    "\n",
    "Consult the following documentation:\n",
    " - [`project()`](http://tinkerpop.apache.org/docs/3.3.2/reference/#project-step)\n"
   ]
  },
  {
   "cell_type": "code",
   "execution_count": null,
   "metadata": {},
   "outputs": [],
   "source": [
    "%%time\n",
    "results_03_05 = (g.\n",
    "    #begin\n",
    "    V().hasLabel('Movie').\n",
    "    project('movie', 'numratings').by('title').by('numvotes').\n",
    "    order().by(select('numratings'), decr).limit(10).\n",
    "    #end\n",
    "    toList())\n",
    "\n",
    "for result in results_03_05:\n",
    "    print(result);\n",
    "\n"
   ]
  },
  {
   "cell_type": "markdown",
   "metadata": {},
   "source": [
    "### 03.06\n",
    "\n",
    "List the top 10 most social people.\n"
   ]
  },
  {
   "cell_type": "code",
   "execution_count": null,
   "metadata": {},
   "outputs": [],
   "source": [
    "%%time\n",
    "results_03_06 = (g.\n",
    "    #begin\n",
    "    V().hasLabel('Person').project('firstName', 'lastName', 'numknows').\n",
    "    by('firstName').by('lastName').by(__.out('knows').count()).\n",
    "    order().by(select('numknows'), decr).limit(10).\n",
    "    #end\n",
    "    toList())\n",
    "\n",
    "for result in results_03_06:\n",
    "    print(result);\n",
    "\n"
   ]
  },
  {
   "cell_type": "code",
   "execution_count": null,
   "metadata": {},
   "outputs": [],
   "source": []
  }
 ],
 "metadata": {
  "kernelspec": {
   "display_name": "conda_python3",
   "language": "python",
   "name": "conda_python3"
  },
  "language_info": {
   "codemirror_mode": {
    "name": "ipython",
    "version": 3
   },
   "file_extension": ".py",
   "mimetype": "text/x-python",
   "name": "python",
   "nbconvert_exporter": "python",
   "pygments_lexer": "ipython3",
   "version": "3.6.10"
  }
 },
 "nbformat": 4,
 "nbformat_minor": 4
}
