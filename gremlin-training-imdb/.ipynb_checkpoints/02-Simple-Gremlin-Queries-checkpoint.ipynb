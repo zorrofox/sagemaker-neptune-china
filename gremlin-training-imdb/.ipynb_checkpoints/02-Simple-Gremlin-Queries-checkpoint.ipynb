{
 "cells": [
  {
   "cell_type": "markdown",
   "metadata": {},
   "source": [
    "# Simple Gremlin Queries\n",
    "In this section, you would start with basic Gremlin queries."
   ]
  },
  {
   "cell_type": "markdown",
   "metadata": {},
   "source": [
    "## Setup\n",
    "\n",
    "Before you start, ensure you have run notebook _01-Setup_ to create the dataset with which we'll be working."
   ]
  },
  {
   "cell_type": "code",
   "execution_count": null,
   "metadata": {},
   "outputs": [],
   "source": [
    "%load_ext ipython_unittest\n",
    "%run '../util/neptune.py'"
   ]
  },
  {
   "cell_type": "code",
   "execution_count": null,
   "metadata": {},
   "outputs": [],
   "source": [
    "g = neptune.graphTraversal()"
   ]
  },
  {
   "cell_type": "markdown",
   "metadata": {},
   "source": [
    "## Graph Model\n",
    "\n",
    "Here's the application graph data model:\n",
    "\n",
    "<img src=\"https://s3.amazonaws.com/aws-neptune-customer-samples/neptune-sagemaker/images/imdb-data-model.jpg\"/>\n",
    "\n"
   ]
  },
  {
   "cell_type": "markdown",
   "metadata": {},
   "source": [
    "## Gremlin-Python\n",
    "\n",
    "Throughout these exercises you'll be using [Gremlin-Python](http://tinkerpop.apache.org/docs/current/reference/#gremlin-python), which requires a few modifications to Gremlin:\n",
    "\n",
    " - In Python, `as`, `in`, `and`, `or`, `is`, `not`, `from`, and `global` are reserved words. In Gremlin-Python, simply add a `_` postfix to these words. For example, the `as()` Gremlin step is written `as_()`."
   ]
  },
  {
   "cell_type": "markdown",
   "metadata": {},
   "source": [
    "## Select a Vertex and its Properties\n",
    "\n",
    "When selecting graph elements, bear the following in mind:\n",
    "\n",
    " - Neptune allows you to supply custom vertex and edge IDs. Use these if possible to lookup a vertex or edge by ID. See the _User Supplied IDs_ section in the [documentation](https://docs.aws.amazon.com/neptune/latest/userguide/access-graph-gremlin-differences.html).\n",
    " - If you can't use an ID to lookup an element, use the _minimum number_ of label and property prediates necessary to uniquely identify the element or the set of elements you want to find.\n",
    " - When returning results, select only the properties necessary to satisfy your query, rather than returning vertices and edges in their entirety."
   ]
  },
  {
   "cell_type": "markdown",
   "metadata": {},
   "source": [
    "### 02.01\n",
    "\n",
    "Find the vertex with ID 'tt0120338' and return its \"title\", \"rating\" and \"year\" properties as a map.\n",
    "\n",
    "Consult the following documentation:\n",
    " - [`valueMap()`](http://tinkerpop.apache.org/docs/current/reference/#valuemap-step)\n",
    " - [`values()`](http://tinkerpop.apache.org/docs/current/reference/#_values_step)"
   ]
  },
  {
   "cell_type": "code",
   "execution_count": null,
   "metadata": {},
   "outputs": [],
   "source": [
    "results_02_01 = (g.\n",
    "    #begin\n",
    "    V('tt0120338').\n",
    "    valueMap('title', 'rating', 'year').\n",
    "    #end\n",
    "    toList())\n",
    "\n",
    "print(results_02_01)\n"
   ]
  },
  {
   "cell_type": "markdown",
   "metadata": {},
   "source": [
    "### 02.02\n",
    "\n",
    "Find the vertex representing movies which were released in the year 2000 and were rated greater than 7.5\n",
    "\n",
    "Consult the following documentation:\n",
    " - [`has()`](http://tinkerpop.apache.org/docs/current/reference/#has-step)"
   ]
  },
  {
   "cell_type": "code",
   "execution_count": null,
   "metadata": {},
   "outputs": [],
   "source": [
    "results_02_02 = (g.\n",
    "    #begin\n",
    "    V().hasLabel('Movie').has('year', 2000).has('rating', gt(7.5)).\n",
    "    values('title').\n",
    "    #end\n",
    "    toList())\n",
    "\n",
    "for result in results_02_02:\n",
    "    print(result);\n",
    "\n"
   ]
  },
  {
   "cell_type": "markdown",
   "metadata": {},
   "source": [
    "## Following Edges"
   ]
  },
  {
   "cell_type": "markdown",
   "metadata": {},
   "source": [
    "### 02.03\n",
    "\n",
    "Find the movies directed by Christopher Nolan.\n",
    "\n",
    "Consult the following documentation:\n",
    "\n",
    " - [Some simple graph traversal examples](http://kelvinlawrence.net/book/Gremlin-Graph-Guide.html#_some_simple_graph_traversal_examples) describes how you can use `out()`, `in()` and `both()` to traverse to neighbouring vertices.\n",
    " - [Examining the edge between two vertices](http://kelvinlawrence.net/book/Gremlin-Graph-Guide.html#exedge) describes how you can use `outE()`, `inE()` and `bothE()` to examine the edges themselves.\n",
    "\n",
    "Note that `in` is a reserved word in Python – `in()` must therefore be written `in_()`."
   ]
  },
  {
   "cell_type": "code",
   "execution_count": null,
   "metadata": {},
   "outputs": [],
   "source": [
    "results_02_03 = (g.\n",
    "    #begin\n",
    "    V().hasLabel('Artist').has('name','Christopher Nolan').\n",
    "    in_('director').values('title').\n",
    "    #end\n",
    "    toList())\n",
    "\n",
    "for result in results_02_03:\n",
    "    print(result);\n",
    "\n"
   ]
  },
  {
   "cell_type": "markdown",
   "metadata": {},
   "source": [
    "### 02.04\n",
    "\n",
    "Find the person with ID 'person378' and count the number of people they follow."
   ]
  },
  {
   "cell_type": "code",
   "execution_count": null,
   "metadata": {},
   "outputs": [],
   "source": [
    "%%time\n",
    "results_02_04 = (g.\n",
    "    #begin\n",
    "    V('person378').\n",
    "    out('follows').count().\n",
    "    #end\n",
    "    next())\n",
    "\n",
    "print(results_02_04)\n"
   ]
  },
  {
   "cell_type": "markdown",
   "metadata": {},
   "source": [
    "### 02.05\n",
    "\n",
    "Find the Person with ID 'person378' and count the number of unique people (themselves _included_) who follow the same artists.\n",
    "\n",
    "Consult the following documentation:\n",
    " - [`dedup()`](http://tinkerpop.apache.org/docs/current/reference/#dedup-step)\n",
    "\n",
    "Remember, `in()` must be written `in_()`."
   ]
  },
  {
   "cell_type": "code",
   "execution_count": null,
   "metadata": {},
   "outputs": [],
   "source": [
    "%%time\n",
    "results_02_05 = (g.\n",
    "    #begin\n",
    "    V('person378').\n",
    "    out('follows').in_('follows').\n",
    "    dedup().count().\n",
    "    #end\n",
    "    next())\n",
    "\n",
    "print(results_02_05)\n"
   ]
  },
  {
   "cell_type": "markdown",
   "metadata": {},
   "source": [
    "## Accessing Previous Steps\n",
    "\n",
    "In these exercises you'll use `as()` to label a step that you can refer back to in a subsequent step, and `aggregate()` to fill a collection that you can use in a future computation.\n",
    "\n",
    "You'll also use predicates to test whether two objects are equal, or whether an object is included in a collection.\n",
    "\n",
    "See the following documentation:\n",
    "\n",
    " - [`as()`](http://tinkerpop.apache.org/docs/current/reference/#as-step) and [`select()`](http://tinkerpop.apache.org/docs/current/reference/#select-step)\n",
    " - [`aggregate()`](http://tinkerpop.apache.org/docs/current/reference/#aggregate-step)\n",
    " - [Predicates](http://tinkerpop.apache.org/docs/current/reference/#a-note-on-predicates)\n",
    " \n",
    " Note that `as` is a reserved word in Python, so `as()` must be written `as_()`."
   ]
  },
  {
   "cell_type": "markdown",
   "metadata": {},
   "source": [
    "### 02.06\n",
    "\n",
    "Find the Person with ID 'person378' and count the number of unique people (themselves _excluded_) who follow the same artists."
   ]
  },
  {
   "cell_type": "code",
   "execution_count": null,
   "metadata": {},
   "outputs": [],
   "source": [
    "%%time\n",
    "results_02_06 = (g.\n",
    "    #begin\n",
    "    V('person378').as_('person').\n",
    "    out('follows').in_('follows').\n",
    "    where(neq('person')). \n",
    "    dedup().count().\n",
    "    #end\n",
    "    next())\n",
    "\n",
    "print(results_02_06)\n"
   ]
  },
  {
   "cell_type": "markdown",
   "metadata": {},
   "source": [
    "### 02.07\n",
    "\n",
    "\n",
    "Find the Person with ID 'person378' and number of unique persons that this person knows and also who live in the same area.\n",
    "\n",
    "You can use the `as()` step to label the starting vertex, and the `select()` step later in the query to return to that labelled step to begin another portion of the traversal."
   ]
  },
  {
   "cell_type": "code",
   "execution_count": null,
   "metadata": {},
   "outputs": [],
   "source": [
    "%%time\n",
    "results_02_07 = (g.\n",
    "    #begin\n",
    "    V('person378').as_('person').\n",
    "    out('knows').aggregate('friends').\n",
    "    select('person').\n",
    "    out('isLocatedIn').in_('isLocatedIn').\n",
    "    where(neq('person')).\n",
    "    where(within('friends')).\n",
    "    dedup().count().\n",
    "    #end\n",
    "    next())\n",
    "\n",
    "print(results_02_07)\n"
   ]
  },
  {
   "cell_type": "markdown",
   "metadata": {},
   "source": [
    "## Create a Vertex with Properties\n",
    "\n",
    "Neptune allows you to supply your own String IDs when creating vertices and edges. You should always try to supply your own IDs – we'll see why this is important in a highly-concurrent write scenario a little later on.\n",
    "\n",
    "Moreover, you should try wherever possible to use _predictable_ IDs – that is, IDs that you can later on predict when wanting to query for a specific vertex or edge. If you don't supply your own ID, Neptune will create a String-based UUID for you – and you'll be hard pressed to predict the value of this ID when you later want to query for the element."
   ]
  },
  {
   "cell_type": "markdown",
   "metadata": {},
   "source": [
    "### 02.08\n",
    "\n",
    "Create a new vertex representing <Add you name here>, with the ID 'person0'.\n",
    "\n",
    "Note: `valueMap(True)` in the test below ensures we retrieve the value of the ID and label attached to the vertex."
   ]
  },
  {
   "cell_type": "code",
   "execution_count": null,
   "metadata": {},
   "outputs": [],
   "source": [
    "# clear any existing vertex\n",
    "g.V('person0').drop().toList()\n",
    "\n",
    "# your code\n",
    "(g.\n",
    "    #begin\n",
    "    addV('Person').\n",
    "    property(id, 'person0').\n",
    "    property('firstName', 'Lorem').\n",
    "    property('lastName', 'Ipsom').\n",
    "    #end\n",
    "    toList())\n",
    "\n",
    "# assert results\n",
    "results_02_08 = (g.\n",
    "    V('person0').valueMap(True).\n",
    "    toList())\n",
    "\n",
    "for result in results_02_08:\n",
    "    print(result);\n",
    "\n"
   ]
  },
  {
   "cell_type": "markdown",
   "metadata": {},
   "source": [
    "### 02.09\n",
    "\n",
    "Create a new vertex representing Justin Bieber, with a birth year of 1899. Let Neptune assign an ID."
   ]
  },
  {
   "cell_type": "code",
   "execution_count": null,
   "metadata": {},
   "outputs": [],
   "source": [
    "# clear any existing vertex\n",
    "g.V().has('name', 'Justin Bieber').drop().toList()\n",
    "\n",
    "# your code\n",
    "(g.\n",
    "    #begin\n",
    "    addV('Artist').\n",
    "    property('name', 'Justin Bieber').\n",
    "    property('birthyear', 1899).\n",
    "    property(id, 'artist0').\n",
    "    #end\n",
    "    toList())\n",
    "\n",
    "# assert results\n",
    "results_02_09 = (g.\n",
    "    V().has('name', 'Justin Bieber').valueMap().\n",
    "    toList())\n",
    "\n",
    "print(results_02_09)\n"
   ]
  },
  {
   "cell_type": "markdown",
   "metadata": {},
   "source": [
    "### 02.10\n",
    "\n",
    "Actually, we made a mistake: Justin Bieber was born in 1994, not 1899. So we need to correct his birthday.\n",
    "\n",
    "At this point, you'll need to know about the cardinality of properties. See the _Cardinality of Vertex Properties_ and _Updating a Vertex Property_ sections in the [Neptune Gremlin Implementation Differences](https://docs.aws.amazon.com/neptune/latest/userguide/access-graph-gremlin-differences.html) documentation."
   ]
  },
  {
   "cell_type": "code",
   "execution_count": null,
   "metadata": {},
   "outputs": [],
   "source": [
    "# your code\n",
    "(g.\n",
    "    #begin\n",
    "    V().has('name', 'Justin Bieber').\n",
    "    property(single, 'birthyear', 1994).\n",
    "    #end\n",
    "    toList())\n",
    "\n",
    "# assert results\n",
    "results_02_10 = (g.\n",
    "    V().has('name', 'Justin Bieber').valueMap('birthyear').\n",
    "    toList())\n",
    "\n",
    "print(results_02_10)\n"
   ]
  },
  {
   "cell_type": "markdown",
   "metadata": {},
   "source": [
    "## Create an Edge Between Two Vertices\n",
    "\n",
    "To add an edge connecting two existing vertices, use the `as()` step to label the _target_ vertex, then select the _from_ vertex, and use `addE()` to add the edge:\n",
    "\n",
    "```\n",
    "g.\n",
    "    V(... find 'to' vertex ...).as_('a'). // Label 'to' vertex\n",
    "    V(... find 'from' vertex ...).\n",
    "    addE('EDGE_LABEL').to('a')            // Use 'to' vertex by label\n",
    "```\n",
    "\n",
    "See the very last example in [Adding an airport (vertex) and a route (edge)](http://kelvinlawrence.net/book/Gremlin-Graph-Guide.html#_adding_an_airport_vertex_and_a_route_edge)."
   ]
  },
  {
   "cell_type": "markdown",
   "metadata": {},
   "source": [
    "### 02.11\n",
    "\n",
    "Create a new follows edge from person0 to Justin Bieber (artist0)."
   ]
  },
  {
   "cell_type": "code",
   "execution_count": null,
   "metadata": {},
   "outputs": [],
   "source": [
    "# Clear any existing edges\n",
    "g.V('person0').outE('follows').as_('e').otherV().has(id, 'artist0').select('e').drop().toList()\n",
    "assert (g.V('person0').out('follows').has(id, 'artist0').count().next()) == 0\n",
    "\n",
    "(g.\n",
    "    #begin\n",
    "    V('artist0').as_('artist').\n",
    "    V('person0').addE('follows').to('artist').\n",
    "    #end\n",
    "    next())\n",
    "\n",
    "results_02_11 = (g.\n",
    "    V('person0').out('follows').has(id, 'artist0').count().\n",
    "    next())\n",
    "\n",
    "print(results_02_11)\n"
   ]
  },
  {
   "cell_type": "markdown",
   "metadata": {},
   "source": [
    "## Conditional Writes\n",
    "\n",
    "Sometimes, you'll want upsert-like functionality, whereby you create a new vertex (or edge) only if it doesn't already exist: if it already exists, you use the existing instance. \n",
    "\n",
    "In Gremlin, you achieve this using a `fold()-coalesce()-unfold()` idiom. For a detailed explanation of this approach, see [Using _coalesce_ to only add a vertex if it does not exist](http://kelvinlawrence.net/book/Gremlin-Graph-Guide.html#coaladdv).\n",
    "\n",
    "The `coalesce()` pattern allows you to determine whether an element already exists using any combination of ID, label and property predicates. However, _Neptune does not enforce any label and/or property uniqueness constraints_ – and this can have serious consequences in concurrent write scenarios.\n",
    "\n",
    "If you are using the `coalesce()` pattern in concurrent write scenarios, but not using _predictable user-supplied IDs_, you can experience situations in which two writer processes (clients, threads, etc) attempt to create-or-return the same element at the same time. If both writers determine the element does not exist and they both attempt to create the element, you may end up with two elements, with the same labels and properties, but different IDs.\n",
    "\n",
    "Neptune will, however, assert uniqueness for vertex IDs and edge IDs. No two vertices can have the same ID; no two edges can have the same ID (a vertex and an edge, however, can have the same ID).\n",
    "\n",
    "The general guidance, therefore, is: \n",
    "\n",
    "When using `coalesce()`, always identify elements by their ID, rather than a property or label predicate. This is important in highly concurrent write scenarios: using a predictable ID for potentially new elements will ensure that only one writer wins should several writers attempt to create the same element simultaneously."
   ]
  },
  {
   "cell_type": "markdown",
   "metadata": {},
   "source": [
    "### 02.12\n",
    "\n",
    "Create a vertex representing John Doe, with ID v98765. Note that your query will be executed twice."
   ]
  },
  {
   "cell_type": "code",
   "execution_count": null,
   "metadata": {},
   "outputs": [],
   "source": [
    "# clear any existing vertex\n",
    "g.V().has('firstName', 'John').has('lastName', 'Doe').drop().toList()\n",
    "\n",
    "def addJohnDoe():\n",
    "    (g.\n",
    "         #begin\n",
    "         V('person123456789').fold().\n",
    "         coalesce(unfold(), addV('Person').\n",
    "              property(id, 'person123456789').\n",
    "              property('firstName','John').\n",
    "              property('lastName', 'Doe')).\n",
    "         #end\n",
    "         next())\n",
    "    \n",
    "addJohnDoe()\n",
    "addJohnDoe()\n",
    "    \n",
    "results_02_12 = (g.V().has('firstName', 'John').has('lastName', 'Doe').valueMap(True).toList())\n",
    "\n",
    "for result in results_02_12:\n",
    "    print(result);\n",
    "\n"
   ]
  },
  {
   "cell_type": "code",
   "execution_count": null,
   "metadata": {},
   "outputs": [],
   "source": []
  }
 ],
 "metadata": {
  "kernelspec": {
   "display_name": "conda_python3",
   "language": "python",
   "name": "conda_python3"
  },
  "language_info": {
   "codemirror_mode": {
    "name": "ipython",
    "version": 3
   },
   "file_extension": ".py",
   "mimetype": "text/x-python",
   "name": "python",
   "nbconvert_exporter": "python",
   "pygments_lexer": "ipython3",
   "version": "3.6.10"
  }
 },
 "nbformat": 4,
 "nbformat_minor": 4
}
